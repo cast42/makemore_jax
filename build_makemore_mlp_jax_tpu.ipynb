{
  "cells": [
    {
      "cell_type": "markdown",
      "metadata": {
        "id": "fKK7Z2OIFz1n"
      },
      "source": [
        "[JAX](https://www.youtube.com/watch?v=WdTeDXsOSj4) implementation of [@karpathy](https://twitter.com/karpathy)'s notebook shared in the context of video [Building makemore Part 2: MLP](https://www.youtube.com/watch?v=TCH_1BHY58I). The implementation by Karpathy is in Toch and implements a neural network based on [A Neural Probabilistic Language Model](https://www.jmlr.org/papers/volume3/bengio03a/bengio03a.pdf).\n",
        "The notebook shared by [Andrej Karpathy](https://github.com/karpathy): [build_makemore_mlp.ipynb](https://colab.research.google.com/drive/1YIfmkftLrz6MPTOO9Vwqrop2Q5llHIGK?usp=sharing)"
      ]
    },
    {
      "cell_type": "code",
      "execution_count": null,
      "metadata": {
        "id": "nmTHWW18W18c"
      },
      "outputs": [],
      "source": [
        "import jax.tools.colab_tpu\n",
        "jax.tools.colab_tpu.setup_tpu()"
      ]
    },
    {
      "cell_type": "code",
      "execution_count": null,
      "metadata": {
        "colab": {
          "base_uri": "https://localhost:8080/"
        },
        "id": "MDKphkMyUQRF",
        "outputId": "eee2f203-1f4b-4eb5-bb50-1f172db11242"
      },
      "outputs": [
        {
          "output_type": "execute_result",
          "data": {
            "text/plain": [
              "8"
            ]
          },
          "metadata": {},
          "execution_count": 2
        }
      ],
      "source": [
        "jax.device_count()"
      ]
    },
    {
      "cell_type": "code",
      "execution_count": null,
      "metadata": {
        "colab": {
          "base_uri": "https://localhost:8080/"
        },
        "id": "Z3BdNoqYUacW",
        "outputId": "0f3c2624-0c2f-4ec5-f9d0-c268b03c63c4"
      },
      "outputs": [
        {
          "output_type": "execute_result",
          "data": {
            "text/plain": [
              "[TpuDevice(id=0, process_index=0, coords=(0,0,0), core_on_chip=0),\n",
              " TpuDevice(id=1, process_index=0, coords=(0,0,0), core_on_chip=1),\n",
              " TpuDevice(id=2, process_index=0, coords=(1,0,0), core_on_chip=0),\n",
              " TpuDevice(id=3, process_index=0, coords=(1,0,0), core_on_chip=1),\n",
              " TpuDevice(id=4, process_index=0, coords=(0,1,0), core_on_chip=0),\n",
              " TpuDevice(id=5, process_index=0, coords=(0,1,0), core_on_chip=1),\n",
              " TpuDevice(id=6, process_index=0, coords=(1,1,0), core_on_chip=0),\n",
              " TpuDevice(id=7, process_index=0, coords=(1,1,0), core_on_chip=1)]"
            ]
          },
          "metadata": {},
          "execution_count": 3
        }
      ],
      "source": [
        "jax.devices()"
      ]
    },
    {
      "cell_type": "code",
      "execution_count": null,
      "metadata": {
        "colab": {
          "base_uri": "https://localhost:8080/"
        },
        "id": "nx_9Y99-DR4f",
        "outputId": "98f13705-0ec3-4c35-cb9a-4365bc6ea4e2"
      },
      "outputs": [
        {
          "output_type": "stream",
          "name": "stdout",
          "text": [
            "Looking in indexes: https://pypi.org/simple, https://us-python.pkg.dev/colab-wheels/public/simple/\n",
            "Collecting jax_metrics\n",
            "  Downloading jax_metrics-0.2.3-py3-none-any.whl (76 kB)\n",
            "\u001b[2K     \u001b[90m━━━━━━━━━━━━━━━━━━━━━━━━━━━━━━━━━━━━━━━━\u001b[0m \u001b[32m76.7/76.7 KB\u001b[0m \u001b[31m2.4 MB/s\u001b[0m eta \u001b[36m0:00:00\u001b[0m\n",
            "\u001b[?25hCollecting optax>=0.1.1\n",
            "  Downloading optax-0.1.4-py3-none-any.whl (154 kB)\n",
            "\u001b[2K     \u001b[90m━━━━━━━━━━━━━━━━━━━━━━━━━━━━━━━━━━━━━━━\u001b[0m \u001b[32m154.9/154.9 KB\u001b[0m \u001b[31m6.5 MB/s\u001b[0m eta \u001b[36m0:00:00\u001b[0m\n",
            "\u001b[?25hRequirement already satisfied: jaxlib in /usr/local/lib/python3.9/dist-packages (from jax_metrics) (0.4.4+cuda11.cudnn82)\n",
            "Requirement already satisfied: jax in /usr/local/lib/python3.9/dist-packages (from jax_metrics) (0.4.4)\n",
            "Collecting simple_pytree>=0.1.3\n",
            "  Downloading simple_pytree-0.1.5-py3-none-any.whl (5.3 kB)\n",
            "Collecting einops>=0.4.0\n",
            "  Downloading einops-0.6.0-py3-none-any.whl (41 kB)\n",
            "\u001b[2K     \u001b[90m━━━━━━━━━━━━━━━━━━━━━━━━━━━━━━━━━━━━━━━━\u001b[0m \u001b[32m41.6/41.6 KB\u001b[0m \u001b[31m2.9 MB/s\u001b[0m eta \u001b[36m0:00:00\u001b[0m\n",
            "\u001b[?25hRequirement already satisfied: numpy>=1.18.0 in /usr/local/lib/python3.9/dist-packages (from optax>=0.1.1->jax_metrics) (1.22.4)\n",
            "Requirement already satisfied: absl-py>=0.7.1 in /usr/local/lib/python3.9/dist-packages (from optax>=0.1.1->jax_metrics) (1.4.0)\n",
            "Requirement already satisfied: typing-extensions>=3.10.0 in /usr/local/lib/python3.9/dist-packages (from optax>=0.1.1->jax_metrics) (4.5.0)\n",
            "Collecting chex>=0.1.5\n",
            "  Downloading chex-0.1.6-py3-none-any.whl (87 kB)\n",
            "\u001b[2K     \u001b[90m━━━━━━━━━━━━━━━━━━━━━━━━━━━━━━━━━━━━━━━━\u001b[0m \u001b[32m87.9/87.9 KB\u001b[0m \u001b[31m6.8 MB/s\u001b[0m eta \u001b[36m0:00:00\u001b[0m\n",
            "\u001b[?25hRequirement already satisfied: opt-einsum in /usr/local/lib/python3.9/dist-packages (from jax->jax_metrics) (3.3.0)\n",
            "Requirement already satisfied: scipy>=1.5 in /usr/local/lib/python3.9/dist-packages (from jax->jax_metrics) (1.10.1)\n",
            "Requirement already satisfied: dm-tree>=0.1.5 in /usr/local/lib/python3.9/dist-packages (from chex>=0.1.5->optax>=0.1.1->jax_metrics) (0.1.8)\n",
            "Requirement already satisfied: toolz>=0.9.0 in /usr/local/lib/python3.9/dist-packages (from chex>=0.1.5->optax>=0.1.1->jax_metrics) (0.12.0)\n",
            "Installing collected packages: einops, simple_pytree, chex, optax, jax_metrics\n",
            "Successfully installed chex-0.1.6 einops-0.6.0 jax_metrics-0.2.3 optax-0.1.4 simple_pytree-0.1.5\n"
          ]
        }
      ],
      "source": [
        "!pip install jax_metrics"
      ]
    },
    {
      "cell_type": "code",
      "execution_count": null,
      "metadata": {
        "colab": {
          "base_uri": "https://localhost:8080/"
        },
        "id": "TV2imIPj9m8P",
        "outputId": "a0a64d8c-7f48-472e-f4c8-a0dd075337be"
      },
      "outputs": [
        {
          "output_type": "stream",
          "name": "stdout",
          "text": [
            "--2023-03-16 16:15:04--  https://raw.githubusercontent.com/karpathy/makemore/master/names.txt\n",
            "Resolving raw.githubusercontent.com (raw.githubusercontent.com)... 185.199.108.133, 185.199.109.133, 185.199.110.133, ...\n",
            "Connecting to raw.githubusercontent.com (raw.githubusercontent.com)|185.199.108.133|:443... connected.\n",
            "HTTP request sent, awaiting response... 200 OK\n",
            "Length: 228145 (223K) [text/plain]\n",
            "Saving to: ‘names.txt’\n",
            "\n",
            "\rnames.txt             0%[                    ]       0  --.-KB/s               \rnames.txt           100%[===================>] 222.80K  --.-KB/s    in 0.03s   \n",
            "\n",
            "2023-03-16 16:15:04 (7.55 MB/s) - ‘names.txt’ saved [228145/228145]\n",
            "\n"
          ]
        }
      ],
      "source": [
        "# download the names.txt file from github\n",
        "!wget https://raw.githubusercontent.com/karpathy/makemore/master/names.txt"
      ]
    },
    {
      "cell_type": "code",
      "execution_count": null,
      "metadata": {
        "id": "Whwuuo-H9MTX"
      },
      "outputs": [],
      "source": [
        "import jax\n",
        "import pandas as pd\n",
        "import matplotlib.pyplot as plt\n",
        "import numpy as np\n",
        "import jax.numpy as jnp\n",
        "import jax_metrics as jm\n",
        "\n",
        "from jax import grad, jit, random, value_and_grad\n",
        "from sklearn.preprocessing import StandardScaler\n",
        "from sklearn.metrics import accuracy_score\n",
        "from sklearn.model_selection import train_test_split"
      ]
    },
    {
      "cell_type": "code",
      "execution_count": null,
      "metadata": {
        "colab": {
          "base_uri": "https://localhost:8080/"
        },
        "id": "EOOA9tSw9rH8",
        "outputId": "24f60903-4113-4982-bada-0b64e227e1f5"
      },
      "outputs": [
        {
          "output_type": "execute_result",
          "data": {
            "text/plain": [
              "['emma', 'olivia', 'ava', 'isabella', 'sophia', 'charlotte', 'mia', 'amelia']"
            ]
          },
          "metadata": {},
          "execution_count": 8
        }
      ],
      "source": [
        "words = open('names.txt', 'r').read().splitlines()\n",
        "words[:8]"
      ]
    },
    {
      "cell_type": "code",
      "execution_count": null,
      "metadata": {
        "id": "OcSQQ9nj9jzJ"
      },
      "outputs": [],
      "source": [
        "import matplotlib.pyplot as plt # for making figures\n",
        "%matplotlib inline"
      ]
    },
    {
      "cell_type": "code",
      "execution_count": null,
      "metadata": {
        "colab": {
          "base_uri": "https://localhost:8080/"
        },
        "id": "k8QyyFpP9r5H",
        "outputId": "7cc665c3-0b46-40de-c2c3-25efd4d7f632"
      },
      "outputs": [
        {
          "output_type": "execute_result",
          "data": {
            "text/plain": [
              "32033"
            ]
          },
          "metadata": {},
          "execution_count": 10
        }
      ],
      "source": [
        "len(words)"
      ]
    },
    {
      "cell_type": "code",
      "execution_count": null,
      "metadata": {
        "id": "iQDjAyq59uRX",
        "colab": {
          "base_uri": "https://localhost:8080/"
        },
        "outputId": "ec48fbdb-6a22-4266-d613-f5989bc6c058"
      },
      "outputs": [
        {
          "output_type": "stream",
          "name": "stdout",
          "text": [
            "{1: 'a', 2: 'b', 3: 'c', 4: 'd', 5: 'e', 6: 'f', 7: 'g', 8: 'h', 9: 'i', 10: 'j', 11: 'k', 12: 'l', 13: 'm', 14: 'n', 15: 'o', 16: 'p', 17: 'q', 18: 'r', 19: 's', 20: 't', 21: 'u', 22: 'v', 23: 'w', 24: 'x', 25: 'y', 26: 'z', 0: '.'}\n"
          ]
        }
      ],
      "source": [
        "# build the vocabulary of characters and mappings to/from integers\n",
        "chars = sorted(list(set(''.join(words))))\n",
        "stoi = {s:i+1 for i,s in enumerate(chars)}\n",
        "stoi['.'] = 0\n",
        "itos = {i:s for s,i in stoi.items()}\n",
        "print(itos)"
      ]
    },
    {
      "cell_type": "code",
      "execution_count": null,
      "metadata": {
        "colab": {
          "base_uri": "https://localhost:8080/"
        },
        "id": "xRp9sprM-Mx8",
        "outputId": "804e8b3a-7960-40c1-eb3d-b2b429070bfd"
      },
      "outputs": [
        {
          "output_type": "stream",
          "name": "stdout",
          "text": [
            "(228146, 3) (228146,)\n"
          ]
        }
      ],
      "source": [
        "X, Y = [], []\n",
        "block_size = 3\n",
        "for w in words:\n",
        "\n",
        "  #print(w)\n",
        "  context = [0] * block_size\n",
        "  for ch in w + '.':\n",
        "    ix = stoi[ch]\n",
        "    X.append(context)\n",
        "    Y.append(ix)\n",
        "    #print(''.join(itos[i] for i in context), '--->', itos[ix])\n",
        "    context = context[1:] + [ix] # crop and append\n",
        "\n",
        "X = jnp.array(X)\n",
        "Y = jnp.array(Y)\n",
        "print(X.shape, Y.shape)"
      ]
    },
    {
      "cell_type": "code",
      "execution_count": null,
      "metadata": {
        "colab": {
          "base_uri": "https://localhost:8080/"
        },
        "id": "x0OreVey9yVe",
        "outputId": "ceaa520d-a92d-4fa2-c3a6-da79670b1a63"
      },
      "outputs": [
        {
          "output_type": "stream",
          "name": "stdout",
          "text": [
            "(171195, 3) (171195,)\n",
            "(28411, 3) (28411,)\n",
            "(28533, 3) (28533,)\n"
          ]
        }
      ],
      "source": [
        "# build the dataset\n",
        "block_size = 3 # context length: how many characters do we take to predict the next one?\n",
        "\n",
        "def build_dataset(words):\n",
        "  X, Y = [], []\n",
        "  for w in words:\n",
        "\n",
        "    #print(w)\n",
        "    context = [0] * block_size\n",
        "    for ch in w + '.':\n",
        "      ix = stoi[ch]\n",
        "      X.append(context)\n",
        "      Y.append(ix)\n",
        "      #print(''.join(itos[i] for i in context), '--->', itos[ix])\n",
        "      context = context[1:] + [ix] # crop and append\n",
        "\n",
        "  X = jnp.array(X)\n",
        "  Y = jnp.array(Y)\n",
        "  print(X.shape, Y.shape)\n",
        "  return X, Y\n",
        "\n",
        "import random\n",
        "random.seed(42)\n",
        "random.shuffle(words)\n",
        "n_words_multiple_eight = 8*(len(words)//8)\n",
        "words = words[:n_words_multiple_eight]\n",
        "n1 = int(6*len(words)/8)\n",
        "n2 = int(7*len(words)/8)\n",
        "\n",
        "Xtr, Ytr = build_dataset(words[:n1])\n",
        "Xdev, Ydev = build_dataset(words[n1:n2])\n",
        "Xte, Yte = build_dataset(words[n2:])"
      ]
    },
    {
      "cell_type": "code",
      "execution_count": null,
      "metadata": {
        "id": "bVRQxxu5G_mT"
      },
      "outputs": [],
      "source": [
        "from jax import random"
      ]
    },
    {
      "cell_type": "code",
      "execution_count": null,
      "metadata": {
        "id": "v8o719bhSJ-H"
      },
      "outputs": [],
      "source": [
        "from jax import nn\n",
        "from operator import getitem"
      ]
    },
    {
      "cell_type": "code",
      "execution_count": null,
      "metadata": {
        "id": "jAY3ezINSZDJ"
      },
      "outputs": [],
      "source": [
        "@jax.jit\n",
        "def cross_entropy_loss(logits, labels):\n",
        "    logits = nn.log_softmax(logits)\n",
        "    loss = jax.vmap(getitem)(logits, labels)\n",
        "    loss = -loss.mean()\n",
        "    return loss"
      ]
    },
    {
      "cell_type": "code",
      "execution_count": null,
      "metadata": {
        "id": "AR_g9FMBHpMT"
      },
      "outputs": [],
      "source": [
        "from typing import NamedTuple, Tuple\n",
        "import functools\n",
        "\n",
        "class Params(NamedTuple):\n",
        "  W1: jnp.ndarray\n",
        "  b1: jnp.ndarray\n",
        "  W2: jnp.ndarray\n",
        "  b2: jnp.ndarray\n",
        "\n",
        "def init(rng) -> Params:\n",
        "  \"\"\"Returns the initial model params.\"\"\"\n",
        "  W1_key, b1_key, W2_key, b2_key = random.split(rng, num=4)\n",
        "  W1 = random.normal(W1_key, (30, 200), dtype=jnp.float32)\n",
        "  b1 = random.normal(b1_key, (200,), dtype=jnp.float32)\n",
        "  W2 = random.normal(W2_key, (200, 27), dtype=jnp.float32)\n",
        "  b2 = random.normal(b2_key, (27,), dtype=jnp.float32)\n",
        "  return Params(W1, b1, W2, b2)\n",
        "\n",
        "def loss_fn(params, emb, Y):\n",
        "  h = jnp.tanh(jnp.dot(emb.reshape(-1, 30), params.W1) + params.b1) # (32, 100)\n",
        "  logits = jnp.dot(h, params.W2) + params.b2 # (32, 27)\n",
        "  loss = cross_entropy_loss(logits=logits, labels=Y)\n",
        "  return loss\n",
        "\n",
        "def p_update(params, emb, Yb, lr):\n",
        "  loss, grads = value_and_grad(loss_fn)(params, emb, Yb)\n",
        "  return loss, jax.tree_map(\n",
        "      lambda p, g: p - lr * g, params, grads\n",
        "  )\n",
        "\n",
        "update_jitted = jit(p_update)"
      ]
    },
    {
      "cell_type": "code",
      "execution_count": null,
      "metadata": {
        "id": "aQxAD9DJBrAK"
      },
      "outputs": [],
      "source": [
        "stepi = []\n",
        "lossi = []\n",
        "key = random.PRNGKey(2147483647)\n",
        "params = init(key)\n",
        "key, C_key = random.split(key)\n",
        "C = random.normal(C_key, (27, 10), dtype=jnp.float32)"
      ]
    },
    {
      "cell_type": "code",
      "execution_count": null,
      "metadata": {
        "id": "aAH6IvZoAmLy",
        "colab": {
          "base_uri": "https://localhost:8080/"
        },
        "outputId": "9f463a75-3c2b-487f-8263-6fcd2a65fcbc"
      },
      "outputs": [
        {
          "output_type": "stream",
          "name": "stdout",
          "text": [
            "CPU times: user 14min 51s, sys: 3.03 s, total: 14min 54s\n",
            "Wall time: 14min 56s\n"
          ]
        }
      ],
      "source": [
        "%%time\n",
        "\n",
        "for i in range(200_000):\n",
        "  lr = 0.1 if i < 100_000 else 0.01\n",
        "  step_key = jax.random.fold_in(key, i)\n",
        "  # minibatch construct\n",
        "  ix = random.randint(step_key, (32,),  0, Xtr.shape[0])\n",
        "  # Embedding\n",
        "  emb = C[Xtr[ix]] # (32, 3, 2)\n",
        "  loss, params = update_jitted(params, emb, Ytr[ix], lr)\n",
        "  stepi.append(i)\n",
        "  lossi.append(jnp.log10(loss))"
      ]
    },
    {
      "cell_type": "markdown",
      "source": [
        "# Evaluatate the train, valid and test loss"
      ],
      "metadata": {
        "id": "rKQiOVK2xwE0"
      }
    },
    {
      "cell_type": "code",
      "execution_count": null,
      "metadata": {
        "id": "mNkXsbbslhvy",
        "colab": {
          "base_uri": "https://localhost:8080/"
        },
        "outputId": "8670018e-948e-460c-a078-aada9dcb1a4b"
      },
      "outputs": [
        {
          "output_type": "execute_result",
          "data": {
            "text/plain": [
              "Array(2.0868907, dtype=float32)"
            ]
          },
          "metadata": {},
          "execution_count": 20
        }
      ],
      "source": [
        "# training loss\n",
        "loss_fn(params, C[Xtr], Ytr)"
      ]
    },
    {
      "cell_type": "code",
      "execution_count": null,
      "metadata": {
        "id": "q6R-Cox7-yBK",
        "colab": {
          "base_uri": "https://localhost:8080/"
        },
        "outputId": "5ee8d89e-5e2d-4233-8942-69e941c509dd"
      },
      "outputs": [
        {
          "output_type": "display_data",
          "data": {
            "text/plain": [
              "<Figure size 432x288 with 1 Axes>"
            ],
            "image/png": "[encoded data removed]"
          },
          "metadata": {
            "needs_background": "light"
          }
        }
      ],
      "source": [
        "plt.plot(stepi, lossi);"
      ]
    },
    {
      "cell_type": "code",
      "execution_count": null,
      "metadata": {
        "id": "Nk4tT8JZly6q",
        "colab": {
          "base_uri": "https://localhost:8080/"
        },
        "outputId": "c7537fb8-c6fe-4e49-d97f-26635ef0947e"
      },
      "outputs": [
        {
          "output_type": "execute_result",
          "data": {
            "text/plain": [
              "Array(2.1568851, dtype=float32)"
            ]
          },
          "metadata": {},
          "execution_count": 22
        }
      ],
      "source": [
        "# validation loss\n",
        "loss_fn(params, C[Xdev], Ydev)"
      ]
    },
    {
      "cell_type": "code",
      "execution_count": null,
      "metadata": {
        "id": "BDRKxIHTt_dv",
        "colab": {
          "base_uri": "https://localhost:8080/"
        },
        "outputId": "8c61341c-c9d0-4b76-ba8c-36b119c7929c"
      },
      "outputs": [
        {
          "output_type": "execute_result",
          "data": {
            "text/plain": [
              "Array(2.1610546, dtype=float32)"
            ]
          },
          "metadata": {},
          "execution_count": 23
        }
      ],
      "source": [
        "# Test loss\n",
        "loss_fn(params, C[Xte], Yte)"
      ]
    },
    {
      "cell_type": "code",
      "execution_count": null,
      "metadata": {
        "id": "sXm-EhD5nSXt",
        "colab": {
          "base_uri": "https://localhost:8080/",
          "height": 483
        },
        "outputId": "3a51b803-6937-4edf-dfbc-adfb9ef7f0c0"
      },
      "outputs": [
        {
          "output_type": "display_data",
          "data": {
            "text/plain": [
              "<Figure size 576x576 with 1 Axes>"
            ],
            "image/png": "[encoded data removed]"
          },
          "metadata": {
            "needs_background": "light"
          }
        }
      ],
      "source": [
        "# visualize dimensions 0 and 1 of the embedding matrix C for all characters\n",
        "plt.figure(figsize=(8,8))\n",
        "plt.scatter(C[:,0], C[:,1], s=200)\n",
        "for i in range(C.shape[0]):\n",
        "    plt.text(C[i,0], C[i,1], itos[i], ha=\"center\", va=\"center\", color='white')\n",
        "plt.grid('minor')"
      ]
    },
    {
      "cell_type": "code",
      "execution_count": null,
      "metadata": {
        "id": "En-ydlVMn19q",
        "colab": {
          "base_uri": "https://localhost:8080/"
        },
        "outputId": "fd80f9cd-c9c3-4e97-b7e6-66025e1391b9"
      },
      "outputs": [
        {
          "output_type": "stream",
          "name": "stdout",
          "text": [
            "aversin.\n",
            "zoseliah.\n",
            "tor.\n",
            "kavarnesirstin.\n",
            "islin.\n",
            "mekatyan.\n",
            "hesh.\n",
            "elynn.\n",
            "khelynn.\n",
            "koria.\n",
            "cece.\n",
            "mades.\n",
            "sorarim.\n",
            "jana.\n",
            "keslie.\n",
            "aki.\n",
            "taniah.\n",
            "sahania.\n",
            "evynni.\n",
            "vius.\n"
          ]
        }
      ],
      "source": [
        "# sample from the model\n",
        "# g = torch.Generator().manual_seed(2147483647 + 10)\n",
        "\n",
        "i = 0\n",
        "for _ in range(20):\n",
        "    out = []\n",
        "    context = [0] * block_size # initialize with all ...\n",
        "    while True:\n",
        "      step_key = jax.random.fold_in(key, i := i+1)\n",
        "      emb = C[jnp.array([context])] # (1,block_size,d)\n",
        "      h = jnp.tanh(jnp.matmul(emb.reshape(-1, 30), params.W1) + params.b1) # (32, 100)\n",
        "      logits = h @ params.W2 + params.b2\n",
        "      ix = jax.random.categorical(step_key, logits).item()\n",
        "      context = context[1:] + [ix]\n",
        "      out.append(ix)\n",
        "      if ix == 0:\n",
        "        break\n",
        "    \n",
        "    print(''.join(itos[i] for i in out))"
      ]
    },
    {
      "cell_type": "code",
      "execution_count": null,
      "metadata": {
        "id": "jSWF5w3Eqvjv"
      },
      "outputs": [],
      "source": []
    }
  ],
  "metadata": {
    "colab": {
      "provenance": []
    },
    "gpuClass": "standard",
    "kernelspec": {
      "display_name": "Python 3",
      "name": "python3"
    },
    "language_info": {
      "name": "python"
    },
    "accelerator": "TPU"
  },
  "nbformat": 4,
  "nbformat_minor": 0
}