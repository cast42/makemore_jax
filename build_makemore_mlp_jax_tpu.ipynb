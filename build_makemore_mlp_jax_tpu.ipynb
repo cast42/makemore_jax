{
  "cells": [
    {
      "cell_type": "markdown",
      "metadata": {
        "id": "fKK7Z2OIFz1n"
      },
      "source": [
        "[JAX](https://www.youtube.com/watch?v=WdTeDXsOSj4) implementation of [@karpathy](https://twitter.com/karpathy)'s notebook shared in the context of video [Building makemore Part 2: MLP](https://www.youtube.com/watch?v=TCH_1BHY58I). The implementation by Karpathy is in Toch and implements a neural network based on [A Neural Probabilistic Language Model](https://www.jmlr.org/papers/volume3/bengio03a/bengio03a.pdf).\n",
        "The notebook shared by [Andrej Karpathy](https://github.com/karpathy): [build_makemore_mlp.ipynb](https://colab.research.google.com/drive/1YIfmkftLrz6MPTOO9Vwqrop2Q5llHIGK?usp=sharing)"
      ]
    },
    {
      "cell_type": "code",
      "execution_count": 1,
      "metadata": {
        "id": "nmTHWW18W18c"
      },
      "outputs": [],
      "source": [
        "import jax.tools.colab_tpu\n",
        "jax.tools.colab_tpu.setup_tpu()"
      ]
    },
    {
      "cell_type": "code",
      "execution_count": 2,
      "metadata": {
        "colab": {
          "base_uri": "https://localhost:8080/"
        },
        "id": "MDKphkMyUQRF",
        "outputId": "940373d2-8a6c-432c-ead5-78fd122d2935"
      },
      "outputs": [
        {
          "output_type": "execute_result",
          "data": {
            "text/plain": [
              "8"
            ]
          },
          "metadata": {},
          "execution_count": 2
        }
      ],
      "source": [
        "jax.device_count()"
      ]
    },
    {
      "cell_type": "code",
      "execution_count": 3,
      "metadata": {
        "colab": {
          "base_uri": "https://localhost:8080/"
        },
        "id": "Z3BdNoqYUacW",
        "outputId": "5a51e735-9e14-4199-93b2-7cbb6a84f318"
      },
      "outputs": [
        {
          "output_type": "execute_result",
          "data": {
            "text/plain": [
              "[TpuDevice(id=0, process_index=0, coords=(0,0,0), core_on_chip=0),\n",
              " TpuDevice(id=1, process_index=0, coords=(0,0,0), core_on_chip=1),\n",
              " TpuDevice(id=2, process_index=0, coords=(1,0,0), core_on_chip=0),\n",
              " TpuDevice(id=3, process_index=0, coords=(1,0,0), core_on_chip=1),\n",
              " TpuDevice(id=4, process_index=0, coords=(0,1,0), core_on_chip=0),\n",
              " TpuDevice(id=5, process_index=0, coords=(0,1,0), core_on_chip=1),\n",
              " TpuDevice(id=6, process_index=0, coords=(1,1,0), core_on_chip=0),\n",
              " TpuDevice(id=7, process_index=0, coords=(1,1,0), core_on_chip=1)]"
            ]
          },
          "metadata": {},
          "execution_count": 3
        }
      ],
      "source": [
        "jax.devices()"
      ]
    },
    {
      "cell_type": "code",
      "execution_count": 4,
      "metadata": {
        "colab": {
          "base_uri": "https://localhost:8080/"
        },
        "id": "nx_9Y99-DR4f",
        "outputId": "b44a0c45-13b8-4f9d-87f0-4f5569016297"
      },
      "outputs": [
        {
          "output_type": "stream",
          "name": "stdout",
          "text": [
            "Looking in indexes: https://pypi.org/simple, https://us-python.pkg.dev/colab-wheels/public/simple/\n",
            "Collecting jax_metrics\n",
            "  Downloading jax_metrics-0.2.5-py3-none-any.whl (76 kB)\n",
            "\u001b[2K     \u001b[90m━━━━━━━━━━━━━━━━━━━━━━━━━━━━━━━━━━━━━━━━\u001b[0m \u001b[32m76.7/76.7 kB\u001b[0m \u001b[31m2.9 MB/s\u001b[0m eta \u001b[36m0:00:00\u001b[0m\n",
            "\u001b[?25hRequirement already satisfied: jax in /usr/local/lib/python3.9/dist-packages (from jax_metrics) (0.3.25)\n",
            "Collecting simple_pytree>=0.1.3\n",
            "  Downloading simple_pytree-0.2.0-py3-none-any.whl (6.4 kB)\n",
            "Collecting einops>=0.4.0\n",
            "  Downloading einops-0.6.0-py3-none-any.whl (41 kB)\n",
            "\u001b[2K     \u001b[90m━━━━━━━━━━━━━━━━━━━━━━━━━━━━━━━━━━━━━━━━\u001b[0m \u001b[32m41.6/41.6 kB\u001b[0m \u001b[31m3.2 MB/s\u001b[0m eta \u001b[36m0:00:00\u001b[0m\n",
            "\u001b[?25hRequirement already satisfied: jaxlib in /usr/local/lib/python3.9/dist-packages (from jax_metrics) (0.3.25)\n",
            "Requirement already satisfied: optax>=0.1.1 in /usr/local/lib/python3.9/dist-packages (from jax_metrics) (0.1.4)\n",
            "Requirement already satisfied: numpy>=1.18.0 in /usr/local/lib/python3.9/dist-packages (from optax>=0.1.1->jax_metrics) (1.24.2)\n",
            "Requirement already satisfied: absl-py>=0.7.1 in /usr/local/lib/python3.9/dist-packages (from optax>=0.1.1->jax_metrics) (1.4.0)\n",
            "Requirement already satisfied: chex>=0.1.5 in /usr/local/lib/python3.9/dist-packages (from optax>=0.1.1->jax_metrics) (0.1.7)\n",
            "Requirement already satisfied: typing-extensions>=3.10.0 in /usr/local/lib/python3.9/dist-packages (from optax>=0.1.1->jax_metrics) (4.5.0)\n",
            "Requirement already satisfied: opt-einsum in /usr/local/lib/python3.9/dist-packages (from jax->jax_metrics) (3.3.0)\n",
            "Requirement already satisfied: scipy>=1.5 in /usr/local/lib/python3.9/dist-packages (from jax->jax_metrics) (1.10.1)\n",
            "Requirement already satisfied: toolz>=0.9.0 in /usr/local/lib/python3.9/dist-packages (from chex>=0.1.5->optax>=0.1.1->jax_metrics) (0.12.0)\n",
            "Requirement already satisfied: dm-tree>=0.1.5 in /usr/local/lib/python3.9/dist-packages (from chex>=0.1.5->optax>=0.1.1->jax_metrics) (0.1.8)\n",
            "Collecting jax\n",
            "  Downloading jax-0.4.8.tar.gz (1.2 MB)\n",
            "\u001b[2K     \u001b[90m━━━━━━━━━━━━━━━━━━━━━━━━━━━━━━━━━━━━━━━━\u001b[0m \u001b[32m1.2/1.2 MB\u001b[0m \u001b[31m25.1 MB/s\u001b[0m eta \u001b[36m0:00:00\u001b[0m\n",
            "\u001b[?25h  Installing build dependencies ... \u001b[?25l\u001b[?25hdone\n",
            "  Getting requirements to build wheel ... \u001b[?25l\u001b[?25hdone\n",
            "  Preparing metadata (pyproject.toml) ... \u001b[?25l\u001b[?25hdone\n",
            "Requirement already satisfied: ml-dtypes>=0.0.3 in /usr/local/lib/python3.9/dist-packages (from jax->jax_metrics) (0.0.4)\n",
            "Building wheels for collected packages: jax\n",
            "  Building wheel for jax (pyproject.toml) ... \u001b[?25l\u001b[?25hdone\n",
            "  Created wheel for jax: filename=jax-0.4.8-py3-none-any.whl size=1439691 sha256=8f9ba28394fbb475d9413b203b194842fe233298cfb869d22a81d38bab00e6e4\n",
            "  Stored in directory: /root/.cache/pip/wheels/05/94/dc/81042da9bced43ff430bc02043d213d9e4b210b584c39e31c1\n",
            "Successfully built jax\n",
            "Installing collected packages: einops, jax, simple_pytree, jax_metrics\n",
            "  Attempting uninstall: jax\n",
            "    Found existing installation: jax 0.3.25\n",
            "    Uninstalling jax-0.3.25:\n",
            "      Successfully uninstalled jax-0.3.25\n",
            "\u001b[31mERROR: pip's dependency resolver does not currently take into account all the packages that are installed. This behaviour is the source of the following dependency conflicts.\n",
            "tensorflow 2.12.0 requires numpy<1.24,>=1.22, but you have numpy 1.24.2 which is incompatible.\u001b[0m\u001b[31m\n",
            "\u001b[0mSuccessfully installed einops-0.6.0 jax-0.4.8 jax_metrics-0.2.5 simple_pytree-0.2.0\n"
          ]
        }
      ],
      "source": [
        "!pip install jax_metrics"
      ]
    },
    {
      "cell_type": "code",
      "execution_count": 5,
      "metadata": {
        "colab": {
          "base_uri": "https://localhost:8080/"
        },
        "id": "TV2imIPj9m8P",
        "outputId": "dac1f965-d634-4a4b-e269-160f1f2e441e"
      },
      "outputs": [
        {
          "output_type": "stream",
          "name": "stdout",
          "text": [
            "--2023-04-17 08:44:06--  https://raw.githubusercontent.com/karpathy/makemore/master/names.txt\n",
            "Resolving raw.githubusercontent.com (raw.githubusercontent.com)... 185.199.111.133, 185.199.108.133, 185.199.109.133, ...\n",
            "Connecting to raw.githubusercontent.com (raw.githubusercontent.com)|185.199.111.133|:443... connected.\n",
            "HTTP request sent, awaiting response... 200 OK\n",
            "Length: 228145 (223K) [text/plain]\n",
            "Saving to: ‘names.txt’\n",
            "\n",
            "\rnames.txt             0%[                    ]       0  --.-KB/s               \rnames.txt           100%[===================>] 222.80K  --.-KB/s    in 0.03s   \n",
            "\n",
            "2023-04-17 08:44:06 (8.12 MB/s) - ‘names.txt’ saved [228145/228145]\n",
            "\n"
          ]
        }
      ],
      "source": [
        "# download the names.txt file from github\n",
        "!wget https://raw.githubusercontent.com/karpathy/makemore/master/names.txt"
      ]
    },
    {
      "cell_type": "code",
      "execution_count": 8,
      "metadata": {
        "id": "Whwuuo-H9MTX"
      },
      "outputs": [],
      "source": [
        "import jax\n",
        "import pandas as pd\n",
        "import matplotlib.pyplot as plt\n",
        "import numpy as np\n",
        "import jax.numpy as jnp\n",
        "# import jax_metrics as jm\n",
        "\n",
        "from jax import grad, jit, random, value_and_grad\n",
        "from sklearn.preprocessing import StandardScaler\n",
        "from sklearn.metrics import accuracy_score\n",
        "from sklearn.model_selection import train_test_split"
      ]
    },
    {
      "cell_type": "code",
      "execution_count": 9,
      "metadata": {
        "colab": {
          "base_uri": "https://localhost:8080/"
        },
        "id": "EOOA9tSw9rH8",
        "outputId": "96c1756c-e50d-44a3-f1f8-ddc5861658a0"
      },
      "outputs": [
        {
          "output_type": "execute_result",
          "data": {
            "text/plain": [
              "['emma', 'olivia', 'ava', 'isabella', 'sophia', 'charlotte', 'mia', 'amelia']"
            ]
          },
          "metadata": {},
          "execution_count": 9
        }
      ],
      "source": [
        "words = open('names.txt', 'r').read().splitlines()\n",
        "words[:8]"
      ]
    },
    {
      "cell_type": "code",
      "execution_count": 10,
      "metadata": {
        "id": "OcSQQ9nj9jzJ"
      },
      "outputs": [],
      "source": [
        "import matplotlib.pyplot as plt # for making figures\n",
        "%matplotlib inline"
      ]
    },
    {
      "cell_type": "code",
      "execution_count": 11,
      "metadata": {
        "colab": {
          "base_uri": "https://localhost:8080/"
        },
        "id": "k8QyyFpP9r5H",
        "outputId": "d0d9eb7f-4585-41a9-a23b-99b46b1b1083"
      },
      "outputs": [
        {
          "output_type": "execute_result",
          "data": {
            "text/plain": [
              "32033"
            ]
          },
          "metadata": {},
          "execution_count": 11
        }
      ],
      "source": [
        "len(words)"
      ]
    },
    {
      "cell_type": "code",
      "execution_count": 12,
      "metadata": {
        "id": "iQDjAyq59uRX",
        "colab": {
          "base_uri": "https://localhost:8080/"
        },
        "outputId": "b91c73b6-c2e3-45fc-c708-4f72781ac5b8"
      },
      "outputs": [
        {
          "output_type": "stream",
          "name": "stdout",
          "text": [
            "{1: 'a', 2: 'b', 3: 'c', 4: 'd', 5: 'e', 6: 'f', 7: 'g', 8: 'h', 9: 'i', 10: 'j', 11: 'k', 12: 'l', 13: 'm', 14: 'n', 15: 'o', 16: 'p', 17: 'q', 18: 'r', 19: 's', 20: 't', 21: 'u', 22: 'v', 23: 'w', 24: 'x', 25: 'y', 26: 'z', 0: '.'}\n"
          ]
        }
      ],
      "source": [
        "# build the vocabulary of characters and mappings to/from integers\n",
        "chars = sorted(list(set(''.join(words))))\n",
        "stoi = {s:i+1 for i,s in enumerate(chars)}\n",
        "stoi['.'] = 0\n",
        "itos = {i:s for s,i in stoi.items()}\n",
        "print(itos)"
      ]
    },
    {
      "cell_type": "code",
      "execution_count": 13,
      "metadata": {
        "colab": {
          "base_uri": "https://localhost:8080/"
        },
        "id": "xRp9sprM-Mx8",
        "outputId": "c756f743-4d0c-4656-89ba-34f65d052a03"
      },
      "outputs": [
        {
          "output_type": "stream",
          "name": "stdout",
          "text": [
            "(228146, 3) (228146,)\n"
          ]
        }
      ],
      "source": [
        "X, Y = [], []\n",
        "block_size = 3\n",
        "for w in words:\n",
        "\n",
        "  #print(w)\n",
        "  context = [0] * block_size\n",
        "  for ch in w + '.':\n",
        "    ix = stoi[ch]\n",
        "    X.append(context)\n",
        "    Y.append(ix)\n",
        "    #print(''.join(itos[i] for i in context), '--->', itos[ix])\n",
        "    context = context[1:] + [ix] # crop and append\n",
        "\n",
        "X = jnp.array(X)\n",
        "Y = jnp.array(Y)\n",
        "print(X.shape, Y.shape)"
      ]
    },
    {
      "cell_type": "code",
      "execution_count": 14,
      "metadata": {
        "colab": {
          "base_uri": "https://localhost:8080/"
        },
        "id": "x0OreVey9yVe",
        "outputId": "c34ab785-7fef-4b23-ccc2-e65976a36b6c"
      },
      "outputs": [
        {
          "output_type": "stream",
          "name": "stdout",
          "text": [
            "(171195, 3) (171195,)\n",
            "(28411, 3) (28411,)\n",
            "(28533, 3) (28533,)\n"
          ]
        }
      ],
      "source": [
        "# build the dataset\n",
        "block_size = 3 # context length: how many characters do we take to predict the next one?\n",
        "\n",
        "def build_dataset(words):\n",
        "  X, Y = [], []\n",
        "  for w in words:\n",
        "\n",
        "    #print(w)\n",
        "    context = [0] * block_size\n",
        "    for ch in w + '.':\n",
        "      ix = stoi[ch]\n",
        "      X.append(context)\n",
        "      Y.append(ix)\n",
        "      #print(''.join(itos[i] for i in context), '--->', itos[ix])\n",
        "      context = context[1:] + [ix] # crop and append\n",
        "\n",
        "  X = jnp.array(X)\n",
        "  Y = jnp.array(Y)\n",
        "  print(X.shape, Y.shape)\n",
        "  return X, Y\n",
        "\n",
        "import random\n",
        "random.seed(42)\n",
        "random.shuffle(words)\n",
        "n_words_multiple_eight = 8*(len(words)//8)\n",
        "words = words[:n_words_multiple_eight]\n",
        "n1 = int(6*len(words)/8)\n",
        "n2 = int(7*len(words)/8)\n",
        "\n",
        "Xtr, Ytr = build_dataset(words[:n1])\n",
        "Xdev, Ydev = build_dataset(words[n1:n2])\n",
        "Xte, Yte = build_dataset(words[n2:])"
      ]
    },
    {
      "cell_type": "code",
      "execution_count": 15,
      "metadata": {
        "id": "bVRQxxu5G_mT"
      },
      "outputs": [],
      "source": [
        "from jax import random"
      ]
    },
    {
      "cell_type": "code",
      "execution_count": 16,
      "metadata": {
        "id": "v8o719bhSJ-H"
      },
      "outputs": [],
      "source": [
        "from jax import nn\n",
        "from operator import getitem"
      ]
    },
    {
      "cell_type": "code",
      "execution_count": 17,
      "metadata": {
        "id": "jAY3ezINSZDJ"
      },
      "outputs": [],
      "source": [
        "@jax.jit\n",
        "def cross_entropy_loss(logits, labels):\n",
        "    logits = nn.log_softmax(logits)\n",
        "    loss = jax.vmap(getitem)(logits, labels)\n",
        "    loss = -loss.mean()\n",
        "    return loss"
      ]
    },
    {
      "cell_type": "code",
      "execution_count": 52,
      "metadata": {
        "id": "AR_g9FMBHpMT"
      },
      "outputs": [],
      "source": [
        "from typing import NamedTuple, Tuple\n",
        "import functools\n",
        "\n",
        "class Params(NamedTuple):\n",
        "  C: jnp.ndarray\n",
        "  W1: jnp.ndarray\n",
        "  b1: jnp.ndarray\n",
        "  W2: jnp.ndarray\n",
        "  b2: jnp.ndarray\n",
        "\n",
        "def init(rng) -> Params:\n",
        "  \"\"\"Returns the initial model params.\"\"\"\n",
        "  C_key, W1_key, b1_key, W2_key, b2_key = random.split(rng, num=5)\n",
        "  C = random.normal(C_key, (27, 10), dtype=jnp.float32)\n",
        "  W1 = random.normal(W1_key, (30, 200), dtype=jnp.float32)\n",
        "  b1 = random.normal(b1_key, (200,), dtype=jnp.float32)\n",
        "  W2 = random.normal(W2_key, (200, 27), dtype=jnp.float32)\n",
        "  b2 = random.normal(b2_key, (27,), dtype=jnp.float32)\n",
        "  return Params(C, W1, b1, W2, b2)\n",
        "\n",
        "def loss_fn(params, X: jnp.ndarray, Y: jnp.ndarray, key) -> jnp.ndarray:\n",
        "  # minibatch construct\n",
        "  ix = random.randint(key, (32,),  0, X.shape[0])\n",
        "  # forward pass\n",
        "  emb = params.C[X[ix]] # (32, 3, 2)\n",
        "  h = jnp.tanh(jnp.dot(emb.reshape(-1, 30), params.W1) + params.b1) # (32, 100)\n",
        "  logits = jnp.dot(h, params.W2) + params.b2 # (32, 27)\n",
        "  loss = cross_entropy_loss(logits=logits, labels=Y[ix])\n",
        "  return loss\n",
        "\n",
        "def update(params, X: jnp.ndarray, Y: jnp.ndarray, lr, key):\n",
        "  loss, grads = value_and_grad(loss_fn)(params, X, Y, key)\n",
        "  return loss, jax.tree_map(\n",
        "      lambda p, g: p - lr * g, params, grads\n",
        "  )\n",
        "\n",
        "update_jitted = jit(update)"
      ]
    },
    {
      "cell_type": "code",
      "execution_count": 54,
      "metadata": {
        "id": "aQxAD9DJBrAK"
      },
      "outputs": [],
      "source": [
        "stepi = []\n",
        "lossi = []\n",
        "key = random.PRNGKey(2147483647)\n",
        "params = init(key)"
      ]
    },
    {
      "cell_type": "code",
      "execution_count": 55,
      "metadata": {
        "id": "aAH6IvZoAmLy",
        "colab": {
          "base_uri": "https://localhost:8080/"
        },
        "outputId": "cad4bbb9-6843-40ea-b9e3-a9e167c1f87d"
      },
      "outputs": [
        {
          "output_type": "stream",
          "name": "stdout",
          "text": [
            "CPU times: user 20min 28s, sys: 14min 10s, total: 34min 39s\n",
            "Wall time: 36min 27s\n"
          ]
        }
      ],
      "source": [
        "%%time\n",
        "\n",
        "for i in range(200_000):\n",
        "  lr = 0.1 if i < 100_000 else 0.01\n",
        "  step_key = jax.random.fold_in(key, i)\n",
        "  loss, params = update_jitted(params, Xtr, Ytr, lr, step_key)\n",
        "  stepi.append(i)\n",
        "  lossi.append(jnp.log10(loss))"
      ]
    },
    {
      "cell_type": "markdown",
      "source": [
        "# Evaluatate the train, valid and test loss"
      ],
      "metadata": {
        "id": "rKQiOVK2xwE0"
      }
    },
    {
      "cell_type": "code",
      "execution_count": 56,
      "metadata": {
        "id": "mNkXsbbslhvy",
        "colab": {
          "base_uri": "https://localhost:8080/"
        },
        "outputId": "c134a399-ac02-4ed5-cf9a-cdb1e02610a0"
      },
      "outputs": [
        {
          "output_type": "execute_result",
          "data": {
            "text/plain": [
              "DeviceArray(2.4834523, dtype=float32)"
            ]
          },
          "metadata": {},
          "execution_count": 56
        }
      ],
      "source": [
        "# training loss\n",
        "loss_fn(params, Xtr, Ytr, jax.random.fold_in(key, i:=i+1))"
      ]
    },
    {
      "cell_type": "code",
      "execution_count": 57,
      "metadata": {
        "id": "q6R-Cox7-yBK",
        "colab": {
          "base_uri": "https://localhost:8080/",
          "height": 430
        },
        "outputId": "f7b0b94f-571d-441b-c662-6b53dca7949b"
      },
      "outputs": [
        {
          "output_type": "display_data",
          "data": {
            "text/plain": [
              "<Figure size 640x480 with 1 Axes>"
            ],
            "image/png": "[encoded data removed]"
          },
          "metadata": {}
        }
      ],
      "source": [
        "plt.plot(stepi, lossi);"
      ]
    },
    {
      "cell_type": "code",
      "execution_count": 58,
      "metadata": {
        "id": "Nk4tT8JZly6q",
        "colab": {
          "base_uri": "https://localhost:8080/"
        },
        "outputId": "edb606bf-23ea-4d18-db89-397806fdc898"
      },
      "outputs": [
        {
          "output_type": "execute_result",
          "data": {
            "text/plain": [
              "DeviceArray(2.22608, dtype=float32)"
            ]
          },
          "metadata": {},
          "execution_count": 58
        }
      ],
      "source": [
        "# validation loss\n",
        "loss_fn(params, Xdev, Ydev, jax.random.fold_in(key, i:=i+1))"
      ]
    },
    {
      "cell_type": "code",
      "execution_count": 59,
      "metadata": {
        "id": "BDRKxIHTt_dv",
        "colab": {
          "base_uri": "https://localhost:8080/"
        },
        "outputId": "be280ec3-57a1-4072-8c16-e7f96e2b911f"
      },
      "outputs": [
        {
          "output_type": "execute_result",
          "data": {
            "text/plain": [
              "DeviceArray(2.1606948, dtype=float32)"
            ]
          },
          "metadata": {},
          "execution_count": 59
        }
      ],
      "source": [
        "# Test loss\n",
        "loss_fn(params, Xte, Yte, jax.random.fold_in(key, i:=i+1))"
      ]
    },
    {
      "cell_type": "code",
      "execution_count": 65,
      "metadata": {
        "id": "sXm-EhD5nSXt",
        "colab": {
          "base_uri": "https://localhost:8080/",
          "height": 676
        },
        "outputId": "fb6af3ce-30e1-4508-9954-a401825f4668"
      },
      "outputs": [
        {
          "output_type": "display_data",
          "data": {
            "text/plain": [
              "<Figure size 800x800 with 1 Axes>"
            ],
            "image/png": "[encoded data removed]"
          },
          "metadata": {}
        }
      ],
      "source": [
        "# visualize dimensions 0 and 1 of the embedding matrix C for all characters\n",
        "C = params.C\n",
        "plt.figure(figsize=(8,8))\n",
        "plt.scatter(C[:,0], C[:,1], s=200)\n",
        "for i in range(C.shape[0]):\n",
        "    plt.text(C[i,0], C[i,1], itos[i], ha=\"center\", va=\"center\", color='white')\n",
        "plt.grid('minor')"
      ]
    },
    {
      "cell_type": "code",
      "execution_count": 66,
      "metadata": {
        "id": "En-ydlVMn19q",
        "colab": {
          "base_uri": "https://localhost:8080/"
        },
        "outputId": "11023f19-2cd7-4703-b6ae-01617ad4284c"
      },
      "outputs": [
        {
          "output_type": "stream",
          "name": "stdout",
          "text": [
            "halin.\n",
            "alyn.\n",
            "skellon.\n",
            "afelie.\n",
            "ruknystheimobia.\n",
            "rom.\n",
            "artyeun.\n",
            "jayko.\n",
            "kiah.\n",
            "nzael.\n",
            "brodul.\n",
            "missa.\n",
            "rhaydeckly.\n",
            "rhanaleigh.\n",
            "bra.\n",
            "faesy.\n",
            "brania.\n",
            "marwi.\n",
            "ley.\n",
            "ruynn.\n"
          ]
        }
      ],
      "source": [
        "# sample from the model\n",
        "# g = torch.Generator().manual_seed(2147483647 + 10)\n",
        "\n",
        "i = 0\n",
        "for _ in range(20):\n",
        "    out = []\n",
        "    context = [0] * block_size # initialize with all ...\n",
        "    while True:\n",
        "      step_key = jax.random.fold_in(key, i := i+1)\n",
        "      emb = C[jnp.array([context])] # (1,block_size,d)\n",
        "      h = jnp.tanh(jnp.matmul(emb.reshape(-1, 30), params.W1) + params.b1) # (32, 100)\n",
        "      logits = h @ params.W2 + params.b2\n",
        "      ix = jax.random.categorical(step_key, logits).item()\n",
        "      context = context[1:] + [ix]\n",
        "      out.append(ix)\n",
        "      if ix == 0:\n",
        "        break\n",
        "    \n",
        "    print(''.join(itos[i] for i in out))"
      ]
    },
    {
      "cell_type": "code",
      "execution_count": null,
      "metadata": {
        "id": "jSWF5w3Eqvjv"
      },
      "outputs": [],
      "source": []
    }
  ],
  "metadata": {
    "colab": {
      "provenance": []
    },
    "gpuClass": "standard",
    "kernelspec": {
      "display_name": "Python 3",
      "name": "python3"
    },
    "language_info": {
      "name": "python"
    },
    "accelerator": "TPU"
  },
  "nbformat": 4,
  "nbformat_minor": 0
}
