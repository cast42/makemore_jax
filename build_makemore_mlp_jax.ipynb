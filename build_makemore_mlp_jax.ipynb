{
  "nbformat": 4,
  "nbformat_minor": 0,
  "metadata": {
    "colab": {
      "provenance": [],
      "authorship_tag": "ABX9TyNofZSTtbGOA30XWLNUzY+h",
      "include_colab_link": true
    },
    "kernelspec": {
      "name": "python3",
      "display_name": "Python 3"
    },
    "language_info": {
      "name": "python"
    },
    "accelerator": "GPU",
    "gpuClass": "standard"
  },
  "cells": [
    {
      "cell_type": "markdown",
      "metadata": {
        "id": "view-in-github",
        "colab_type": "text"
      },
      "source": [
        "<a href=\"https://colab.research.google.com/github/cast42/makemore_jax/blob/main/build_makemore_mlp_jax.ipynb\" target=\"_parent\"><img src=\"https://colab.research.google.com/assets/colab-badge.svg\" alt=\"Open In Colab\"/></a>"
      ]
    },
    {
      "cell_type": "markdown",
      "source": [
        "JAX implementation of [@karpathy](https://twitter.com/karpathy)'s notebook shared in the context of video [Building makemore Part 2: MLP](https://www.youtube.com/watch?v=TCH_1BHY58I). The implementation by karpathy is in Toch and implements a neural network based on [A Neural Probabilistic Language Model](https://www.jmlr.org/papers/volume3/bengio03a/bengio03a.pdf).\n",
        "The notebook shared by [Andrey](https://github.com/karpathy): [build_makemore_mlp.ipynb](https://colab.research.google.com/drive/1YIfmkftLrz6MPTOO9Vwqrop2Q5llHIGK?usp=sharing)"
      ],
      "metadata": {
        "id": "fKK7Z2OIFz1n"
      }
    },
    {
      "cell_type": "code",
      "source": [
        "!pip install jax_metrics"
      ],
      "metadata": {
        "colab": {
          "base_uri": "https://localhost:8080/"
        },
        "id": "nx_9Y99-DR4f",
        "outputId": "c9bbcb55-96e7-47bf-8252-0e9de3c3fab4"
      },
      "execution_count": 27,
      "outputs": [
        {
          "output_type": "stream",
          "name": "stdout",
          "text": [
            "Looking in indexes: https://pypi.org/simple, https://us-python.pkg.dev/colab-wheels/public/simple/\n",
            "Requirement already satisfied: jax_metrics in /usr/local/lib/python3.7/dist-packages (0.1.2)\n",
            "Requirement already satisfied: treeo<0.3.0,>=0.2.1 in /usr/local/lib/python3.7/dist-packages (from jax_metrics) (0.2.1)\n",
            "Requirement already satisfied: einops<0.5.0,>=0.4.0 in /usr/local/lib/python3.7/dist-packages (from jax_metrics) (0.4.1)\n",
            "Requirement already satisfied: certifi<2022.0.0,>=2021.10.8 in /usr/local/lib/python3.7/dist-packages (from jax_metrics) (2021.10.8)\n",
            "Requirement already satisfied: optax<0.2.0,>=0.1.1 in /usr/local/lib/python3.7/dist-packages (from jax_metrics) (0.1.4)\n",
            "Requirement already satisfied: numpy>=1.18.0 in /usr/local/lib/python3.7/dist-packages (from optax<0.2.0,>=0.1.1->jax_metrics) (1.21.6)\n",
            "Requirement already satisfied: typing-extensions>=3.10.0 in /usr/local/lib/python3.7/dist-packages (from optax<0.2.0,>=0.1.1->jax_metrics) (4.1.1)\n",
            "Requirement already satisfied: jaxlib>=0.1.37 in /usr/local/lib/python3.7/dist-packages (from optax<0.2.0,>=0.1.1->jax_metrics) (0.3.25+cuda11.cudnn805)\n",
            "Requirement already satisfied: absl-py>=0.7.1 in /usr/local/lib/python3.7/dist-packages (from optax<0.2.0,>=0.1.1->jax_metrics) (1.3.0)\n",
            "Requirement already satisfied: chex>=0.1.5 in /usr/local/lib/python3.7/dist-packages (from optax<0.2.0,>=0.1.1->jax_metrics) (0.1.5)\n",
            "Requirement already satisfied: jax>=0.1.55 in /usr/local/lib/python3.7/dist-packages (from optax<0.2.0,>=0.1.1->jax_metrics) (0.3.25)\n",
            "Requirement already satisfied: toolz>=0.9.0 in /usr/local/lib/python3.7/dist-packages (from chex>=0.1.5->optax<0.2.0,>=0.1.1->jax_metrics) (0.12.0)\n",
            "Requirement already satisfied: dm-tree>=0.1.5 in /usr/local/lib/python3.7/dist-packages (from chex>=0.1.5->optax<0.2.0,>=0.1.1->jax_metrics) (0.1.7)\n",
            "Requirement already satisfied: scipy>=1.5 in /usr/local/lib/python3.7/dist-packages (from jax>=0.1.55->optax<0.2.0,>=0.1.1->jax_metrics) (1.7.3)\n",
            "Requirement already satisfied: opt-einsum in /usr/local/lib/python3.7/dist-packages (from jax>=0.1.55->optax<0.2.0,>=0.1.1->jax_metrics) (3.3.0)\n"
          ]
        }
      ]
    },
    {
      "cell_type": "code",
      "source": [
        "# download the names.txt file from github\n",
        "!wget https://raw.githubusercontent.com/karpathy/makemore/master/names.txt"
      ],
      "metadata": {
        "colab": {
          "base_uri": "https://localhost:8080/"
        },
        "id": "TV2imIPj9m8P",
        "outputId": "307e45b6-4b8d-4187-b7c9-21fb0cc619fd"
      },
      "execution_count": 28,
      "outputs": [
        {
          "output_type": "stream",
          "name": "stdout",
          "text": [
            "--2022-11-30 13:52:47--  https://raw.githubusercontent.com/karpathy/makemore/master/names.txt\n",
            "Resolving raw.githubusercontent.com (raw.githubusercontent.com)... 185.199.108.133, 185.199.109.133, 185.199.110.133, ...\n",
            "Connecting to raw.githubusercontent.com (raw.githubusercontent.com)|185.199.108.133|:443... connected.\n",
            "HTTP request sent, awaiting response... 200 OK\n",
            "Length: 228145 (223K) [text/plain]\n",
            "Saving to: ‘names.txt.2’\n",
            "\n",
            "\rnames.txt.2           0%[                    ]       0  --.-KB/s               \rnames.txt.2         100%[===================>] 222.80K  --.-KB/s    in 0.02s   \n",
            "\n",
            "2022-11-30 13:52:47 (8.84 MB/s) - ‘names.txt.2’ saved [228145/228145]\n",
            "\n"
          ]
        }
      ]
    },
    {
      "cell_type": "code",
      "execution_count": 29,
      "metadata": {
        "id": "Whwuuo-H9MTX"
      },
      "outputs": [],
      "source": [
        "import jax\n",
        "import pandas as pd\n",
        "import matplotlib.pyplot as plt\n",
        "import numpy as np\n",
        "import jax.numpy as jnp\n",
        "import jax_metrics as jm\n",
        "\n",
        "from jax import grad, jit, random, value_and_grad\n",
        "from sklearn.preprocessing import StandardScaler\n",
        "from sklearn.metrics import accuracy_score\n",
        "from sklearn.model_selection import train_test_split"
      ]
    },
    {
      "cell_type": "code",
      "source": [
        "words = open('names.txt', 'r').read().splitlines()\n",
        "words[:8]"
      ],
      "metadata": {
        "colab": {
          "base_uri": "https://localhost:8080/"
        },
        "id": "EOOA9tSw9rH8",
        "outputId": "af7f898d-3e27-4c07-d289-8b00d9db4f40"
      },
      "execution_count": 30,
      "outputs": [
        {
          "output_type": "execute_result",
          "data": {
            "text/plain": [
              "['emma', 'olivia', 'ava', 'isabella', 'sophia', 'charlotte', 'mia', 'amelia']"
            ]
          },
          "metadata": {},
          "execution_count": 30
        }
      ]
    },
    {
      "cell_type": "code",
      "source": [
        "import matplotlib.pyplot as plt # for making figures\n",
        "%matplotlib inline"
      ],
      "metadata": {
        "id": "OcSQQ9nj9jzJ"
      },
      "execution_count": 31,
      "outputs": []
    },
    {
      "cell_type": "code",
      "source": [
        "len(words)"
      ],
      "metadata": {
        "colab": {
          "base_uri": "https://localhost:8080/"
        },
        "id": "k8QyyFpP9r5H",
        "outputId": "22767f22-5d7e-4b9b-dece-90f541b0bd63"
      },
      "execution_count": 32,
      "outputs": [
        {
          "output_type": "execute_result",
          "data": {
            "text/plain": [
              "32033"
            ]
          },
          "metadata": {},
          "execution_count": 32
        }
      ]
    },
    {
      "cell_type": "code",
      "source": [
        "# build the vocabulary of characters and mappings to/from integers\n",
        "chars = sorted(list(set(''.join(words))))\n",
        "stoi = {s:i+1 for i,s in enumerate(chars)}\n",
        "stoi['.'] = 0\n",
        "itos = {i:s for s,i in stoi.items()}\n",
        "print(itos)"
      ],
      "metadata": {
        "colab": {
          "base_uri": "https://localhost:8080/"
        },
        "id": "iQDjAyq59uRX",
        "outputId": "3ffcdfd1-cb39-42ec-b9f5-f9847b484785"
      },
      "execution_count": 33,
      "outputs": [
        {
          "output_type": "stream",
          "name": "stdout",
          "text": [
            "{1: 'a', 2: 'b', 3: 'c', 4: 'd', 5: 'e', 6: 'f', 7: 'g', 8: 'h', 9: 'i', 10: 'j', 11: 'k', 12: 'l', 13: 'm', 14: 'n', 15: 'o', 16: 'p', 17: 'q', 18: 'r', 19: 's', 20: 't', 21: 'u', 22: 'v', 23: 'w', 24: 'x', 25: 'y', 26: 'z', 0: '.'}\n"
          ]
        }
      ]
    },
    {
      "cell_type": "code",
      "source": [
        "X, Y = [], []\n",
        "block_size = 3\n",
        "for w in words:\n",
        "\n",
        "  #print(w)\n",
        "  context = [0] * block_size\n",
        "  for ch in w + '.':\n",
        "    ix = stoi[ch]\n",
        "    X.append(context)\n",
        "    Y.append(ix)\n",
        "    #print(''.join(itos[i] for i in context), '--->', itos[ix])\n",
        "    context = context[1:] + [ix] # crop and append\n",
        "\n",
        "X = jnp.array(X)\n",
        "Y = jnp.array(Y)\n",
        "print(X.shape, Y.shape)"
      ],
      "metadata": {
        "colab": {
          "base_uri": "https://localhost:8080/"
        },
        "id": "xRp9sprM-Mx8",
        "outputId": "eaf4a035-afce-43dc-9206-72c4413844ae"
      },
      "execution_count": 34,
      "outputs": [
        {
          "output_type": "stream",
          "name": "stdout",
          "text": [
            "(228146, 3) (228146,)\n"
          ]
        }
      ]
    },
    {
      "cell_type": "code",
      "source": [
        "# build the dataset\n",
        "block_size = 3 # context length: how many characters do we take to predict the next one?\n",
        "\n",
        "def build_dataset(words):\n",
        "  X, Y = [], []\n",
        "  for w in words:\n",
        "\n",
        "    #print(w)\n",
        "    context = [0] * block_size\n",
        "    for ch in w + '.':\n",
        "      ix = stoi[ch]\n",
        "      X.append(context)\n",
        "      Y.append(ix)\n",
        "      #print(''.join(itos[i] for i in context), '--->', itos[ix])\n",
        "      context = context[1:] + [ix] # crop and append\n",
        "\n",
        "  X = jnp.array(X)\n",
        "  Y = jnp.array(Y)\n",
        "  print(X.shape, Y.shape)\n",
        "  return X, Y\n",
        "\n",
        "import random\n",
        "random.seed(42)\n",
        "random.shuffle(words)\n",
        "n1 = int(0.8*len(words))\n",
        "n2 = int(0.9*len(words))\n",
        "\n",
        "Xtr, Ytr = build_dataset(words[:n1])\n",
        "Xdev, Ydev = build_dataset(words[n1:n2])\n",
        "Xte, Yte = build_dataset(words[n2:])"
      ],
      "metadata": {
        "colab": {
          "base_uri": "https://localhost:8080/"
        },
        "id": "x0OreVey9yVe",
        "outputId": "90b82212-34ca-49d1-9069-87654c9695a6"
      },
      "execution_count": 35,
      "outputs": [
        {
          "output_type": "stream",
          "name": "stdout",
          "text": [
            "(182625, 3) (182625,)\n",
            "(22655, 3) (22655,)\n",
            "(22866, 3) (22866,)\n"
          ]
        }
      ]
    },
    {
      "cell_type": "code",
      "source": [
        "from jax import random"
      ],
      "metadata": {
        "id": "bVRQxxu5G_mT"
      },
      "execution_count": 36,
      "outputs": []
    },
    {
      "cell_type": "code",
      "source": [
        "key = random.PRNGKey(2147483647)\n",
        "C = random.normal(key, (27, 10))\n",
        "W1 = random.normal(key, (30, 200))\n",
        "b1 = random.normal(key, (200,))\n",
        "W2 = random.normal(key, (200, 27))\n",
        "b2 = random.normal(key, (27,))\n",
        "parameters = [C, W1, b1, W2, b2]"
      ],
      "metadata": {
        "id": "Sk1hi6uR_OpE"
      },
      "execution_count": 37,
      "outputs": []
    },
    {
      "cell_type": "code",
      "source": [
        "lre = jnp.linspace(-3, 0, 1000)\n",
        "lrs = 10**lre"
      ],
      "metadata": {
        "id": "Y5U9FgjFACtg"
      },
      "execution_count": 38,
      "outputs": []
    },
    {
      "cell_type": "code",
      "source": [
        "sum(p.size for p in parameters) # number of parameters in total"
      ],
      "metadata": {
        "colab": {
          "base_uri": "https://localhost:8080/"
        },
        "id": "e-5MWYZz_9Vh",
        "outputId": "9e850598-1a47-4aa0-923c-9998804a81cf"
      },
      "execution_count": 39,
      "outputs": [
        {
          "output_type": "execute_result",
          "data": {
            "text/plain": [
              "11897"
            ]
          },
          "metadata": {},
          "execution_count": 39
        }
      ]
    },
    {
      "cell_type": "code",
      "source": [
        "lri = []\n",
        "lossi = []\n",
        "stepi = []"
      ],
      "metadata": {
        "id": "qLYjKsy9AGhg"
      },
      "execution_count": 40,
      "outputs": []
    },
    {
      "cell_type": "code",
      "source": [
        "crossentropy = jm.losses.Crossentropy()"
      ],
      "metadata": {
        "id": "sSXjLjeZDtRG"
      },
      "execution_count": 41,
      "outputs": []
    },
    {
      "cell_type": "code",
      "source": [
        "def loss_fn(params, X, Y, key):\n",
        "  C = params[\"C\"]\n",
        "  W1 = params[\"W1\"]\n",
        "  b1 = params[\"b1\"]\n",
        "  W2 = params[\"W2\"]\n",
        "  b2 = params[\"b2\"]\n",
        "  # minibatch construct\n",
        "  ix = random.randint(key, (32,),  0, X.shape[0])\n",
        "  # forward pass\n",
        "  emb = C[X[ix]] # (32, 3, 2)\n",
        "  h = jnp.tanh(jnp.matmul(emb.reshape(-1, 30), W1) + b1) # (32, 100)\n",
        "  logits = jnp.matmul(h, W2) + b2 # (32, 27)\n",
        "  loss = crossentropy(target=Ytr[ix], preds=logits)\n",
        "  return loss\n",
        "\n",
        "@jit\n",
        "def update(params, X, Y, lr, key):\n",
        "  loss, grads = value_and_grad(loss_fn)(params, X, Y, key)\n",
        "  return loss, jax.tree_map(\n",
        "      lambda p, g: p - lr * g, params, grads\n",
        "  )"
      ],
      "metadata": {
        "id": "AR_g9FMBHpMT"
      },
      "execution_count": 42,
      "outputs": []
    },
    {
      "cell_type": "code",
      "source": [
        "step_size = 0.1"
      ],
      "metadata": {
        "id": "-cPPhp3zgiut"
      },
      "execution_count": 43,
      "outputs": []
    },
    {
      "cell_type": "code",
      "source": [
        "params = {\"C\": C, \"W1\": W1, \"b1\":b1, \"W2\":W2, \"b2\":b2}"
      ],
      "metadata": {
        "id": "9zCaM9DSl-MG"
      },
      "execution_count": 44,
      "outputs": []
    },
    {
      "cell_type": "code",
      "source": [
        "stepi = []\n",
        "lossi = []"
      ],
      "metadata": {
        "id": "aQxAD9DJBrAK"
      },
      "execution_count": 45,
      "outputs": []
    },
    {
      "cell_type": "code",
      "source": [
        "%%time\n",
        "\n",
        "for i in range(200_000):\n",
        "  lr = 0.1 if i < 100_000 else 0.01\n",
        "  new_key, subkey = random.split(key)\n",
        "  loss, params = update(params, Xtr, Ytr, lr, new_key)\n",
        "  del subkey\n",
        "  key = new_key\n",
        "  stepi.append(i)\n",
        "  lossi.append(jnp.log10(loss))"
      ],
      "metadata": {
        "id": "aAH6IvZoAmLy",
        "colab": {
          "base_uri": "https://localhost:8080/"
        },
        "outputId": "0206fd33-581c-4527-cd04-b4ec94961240"
      },
      "execution_count": 46,
      "outputs": [
        {
          "output_type": "stream",
          "name": "stdout",
          "text": [
            "CPU times: user 2min 37s, sys: 45.3 s, total: 3min 22s\n",
            "Wall time: 2min 29s\n"
          ]
        }
      ]
    },
    {
      "cell_type": "code",
      "source": [
        "plt.plot(stepi, lossi);"
      ],
      "metadata": {
        "colab": {
          "base_uri": "https://localhost:8080/",
          "height": 265
        },
        "id": "q6R-Cox7-yBK",
        "outputId": "27f24b38-7208-46f6-c68a-f569aad87417"
      },
      "execution_count": 47,
      "outputs": [
        {
          "output_type": "display_data",
          "data": {
            "text/plain": [
              "<Figure size 432x288 with 1 Axes>"
            ],
            "image/png": "[encoded data removed]"
          },
          "metadata": {
            "needs_background": "light"
          }
        }
      ]
    },
    {
      "cell_type": "code",
      "source": [
        "# training loss\n",
        "loss_fn(params, Xtr, Ytr, key)"
      ],
      "metadata": {
        "colab": {
          "base_uri": "https://localhost:8080/"
        },
        "id": "mNkXsbbslhvy",
        "outputId": "94d260b9-3bf1-4b99-ce8a-6bcfbb594c3d"
      },
      "execution_count": 48,
      "outputs": [
        {
          "output_type": "execute_result",
          "data": {
            "text/plain": [
              "DeviceArray(2.1563854, dtype=float32)"
            ]
          },
          "metadata": {},
          "execution_count": 48
        }
      ]
    },
    {
      "cell_type": "code",
      "source": [
        "# validation loss\n",
        "loss_fn(params, Xdev, Ydev, key)"
      ],
      "metadata": {
        "colab": {
          "base_uri": "https://localhost:8080/"
        },
        "id": "Nk4tT8JZly6q",
        "outputId": "e7421150-f0d1-499c-894d-bc83d71f0753"
      },
      "execution_count": 49,
      "outputs": [
        {
          "output_type": "execute_result",
          "data": {
            "text/plain": [
              "DeviceArray(3.8459513, dtype=float32)"
            ]
          },
          "metadata": {},
          "execution_count": 49
        }
      ]
    },
    {
      "cell_type": "code",
      "source": [
        "# Test loss\n",
        "loss_fn(params, Xte, Yte, key)"
      ],
      "metadata": {
        "colab": {
          "base_uri": "https://localhost:8080/"
        },
        "id": "BDRKxIHTt_dv",
        "outputId": "4d1e2746-21ad-4215-99fe-213444bd1032"
      },
      "execution_count": 50,
      "outputs": [
        {
          "output_type": "execute_result",
          "data": {
            "text/plain": [
              "DeviceArray(5.046379, dtype=float32)"
            ]
          },
          "metadata": {},
          "execution_count": 50
        }
      ]
    },
    {
      "cell_type": "code",
      "source": [
        "# visualize dimensions 0 and 1 of the embedding matrix C for all characters\n",
        "plt.figure(figsize=(8,8))\n",
        "plt.scatter(params[\"C\"][:,0], params[\"C\"][:,1], s=200)\n",
        "for i in range(params[\"C\"].shape[0]):\n",
        "    plt.text(params[\"C\"][i,0], params[\"C\"][i,1], itos[i], ha=\"center\", va=\"center\", color='white')\n",
        "plt.grid('minor')"
      ],
      "metadata": {
        "colab": {
          "base_uri": "https://localhost:8080/",
          "height": 483
        },
        "id": "sXm-EhD5nSXt",
        "outputId": "3f911b0d-109b-41cd-eb79-665e231073eb"
      },
      "execution_count": 51,
      "outputs": [
        {
          "output_type": "display_data",
          "data": {
            "text/plain": [
              "<Figure size 576x576 with 1 Axes>"
            ],
            "image/png": "[encoded data removed]"
          },
          "metadata": {
            "needs_background": "light"
          }
        }
      ]
    },
    {
      "cell_type": "code",
      "source": [
        "# sample from the model\n",
        "# g = torch.Generator().manual_seed(2147483647 + 10)\n",
        "\n",
        "for _ in range(20):\n",
        "    \n",
        "    out = []\n",
        "    context = [0] * block_size # initialize with all ...\n",
        "    while True:\n",
        "      new_key, subkey = random.split(key)\n",
        "      del key\n",
        "      emb = params[\"C\"][jnp.array([context])] # (1,block_size,d)\n",
        "      h = jnp.tanh(jnp.matmul(emb.reshape(-1, 30), params[\"W1\"]) + params[\"b1\"]) # (32, 100)\n",
        "      logits = h @ params[\"W2\"] + params[\"b2\"]\n",
        "      ix = jax.random.categorical(subkey, logits).item()\n",
        "      del subkey\n",
        "      key = new_key\n",
        "      context = context[1:] + [ix]\n",
        "      out.append(ix)\n",
        "      if ix == 0:\n",
        "        break\n",
        "    \n",
        "    print(''.join(itos[i] for i in out))"
      ],
      "metadata": {
        "colab": {
          "base_uri": "https://localhost:8080/"
        },
        "id": "En-ydlVMn19q",
        "outputId": "a4ca9f24-dde9-4500-d38e-6a6ce8e7217d"
      },
      "execution_count": 52,
      "outputs": [
        {
          "output_type": "stream",
          "name": "stdout",
          "text": [
            "rayloryah.\n",
            "thone.\n",
            "rennodison.\n",
            "zey.\n",
            "arie.\n",
            "wacy.\n",
            "zeg.\n",
            "roline.\n",
            "zer.\n",
            "rowardont.\n",
            "rodeta.\n",
            "tpe.\n",
            "merryon.\n",
            "cam.\n",
            "miloriel.\n",
            "darneyla.\n",
            "emima.\n",
            "aan.\n",
            "amadea.\n",
            "bron.\n"
          ]
        }
      ]
    },
    {
      "cell_type": "code",
      "source": [],
      "metadata": {
        "id": "jSWF5w3Eqvjv"
      },
      "execution_count": 52,
      "outputs": []
    }
  ]
}